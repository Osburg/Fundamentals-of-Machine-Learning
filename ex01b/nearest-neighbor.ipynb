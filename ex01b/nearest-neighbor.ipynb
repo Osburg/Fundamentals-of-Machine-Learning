{
 "cells": [
  {
   "cell_type": "markdown",
   "metadata": {},
   "source": [
    "# Exercise 1 b\n",
    "## 3 Nearest Neighbor Classification on Real Data\n",
    "### 3.1 Exploring the Data"
   ]
  },
  {
   "cell_type": "code",
   "execution_count": 1,
   "metadata": {},
   "outputs": [
    {
     "name": "stdout",
     "output_type": "stream",
     "text": [
      "dict_keys(['data', 'target', 'frame', 'feature_names', 'target_names', 'images', 'DESCR'])\n",
      "float64\n",
      "(8, 8)\n"
     ]
    }
   ],
   "source": [
    "#load dataset from sklearn\n",
    "from sklearn.datasets import load_digits\n",
    "\n",
    "digits = load_digits()\n",
    "\n",
    "print(digits.keys())\n",
    "\n",
    "data         = digits[\"data\"]\n",
    "images       = digits[\"images\"]\n",
    "target       = digits[\"target\"]\n",
    "target_names = digits[\"target_names\"]\n",
    "\n",
    "print(data.dtype)\n",
    "\n",
    "#check, what is the size of the images\n",
    "print(images[0].shape)"
   ]
  },
  {
   "cell_type": "markdown",
   "metadata": {},
   "source": [
    "As we can see the size of the images is 8x8."
   ]
  },
  {
   "cell_type": "code",
   "execution_count": 2,
   "metadata": {},
   "outputs": [
    {
     "data": {
      "image/png": "[encoded data removed]",
      "text/plain": [
       "<Figure size 432x288 with 1 Axes>"
      ]
     },
     "metadata": {
      "needs_background": "light"
     },
     "output_type": "display_data"
    }
   ],
   "source": [
    "#import libraries\n",
    "import numpy as np\n",
    "import matplotlib.pyplot as plt\n",
    "import pandas as pd\n",
    "\n",
    "img = images[13]\n",
    "\n",
    "assert (2 == len(img.shape)), \"img does not have a valid shape\"\n",
    "\n",
    "plt.figure()\n",
    "plt.gray()\n",
    "plt.imshow(img, interpolation=\"nearest\")\n",
    "plt.show()"
   ]
  },
  {
   "cell_type": "markdown",
   "metadata": {},
   "source": [
    "We plotted some of the images and found out that for example the 13th image is a 3."
   ]
  },
  {
   "cell_type": "code",
   "execution_count": 3,
   "metadata": {},
   "outputs": [],
   "source": [
    "#Split the data into a training and a test set\n",
    "from sklearn import model_selection\n",
    "\n",
    "X_all = data\n",
    "y_all = target\n",
    "\n",
    "X_train, X_test, y_train, y_test =\\\n",
    "    model_selection.train_test_split(digits.data, digits.target, \n",
    "                                    test_size = 0.4, random_state = 0)"
   ]
  },
  {
   "cell_type": "markdown",
   "metadata": {},
   "source": [
    "### 3.2 Distance function computation using loops"
   ]
  },
  {
   "cell_type": "code",
   "execution_count": 4,
   "metadata": {},
   "outputs": [],
   "source": [
    "#define euclidian distance function using loops\n",
    "def dist_loop(training, test):\n",
    "    #test if the inputs are NxD, MxD matrices\n",
    "    assert (2 == len(np.shape(training))), \"training does not have a valid shape.\"\n",
    "    assert (2 == len(np.shape(test))), \"training does not have a valid shape.\"\n",
    "    assert (np.shape(test)[1] == np.shape(training)[1]), \"training and test do not have compatible shapes.\"\n",
    "    \n",
    "    #introduce MxN array for the output\n",
    "    N = np.shape(training)[0]\n",
    "    M = np.shape(test)[0]\n",
    "    D = np.shape(training)[1]\n",
    "    distances = np.zeros(shape=(N,M))\n",
    "    \n",
    "    #convert the input to numpy arrays\n",
    "    training = np.array(training)\n",
    "    test = np.array(test)\n",
    "    \n",
    "    #compute the euclidian distance for every combination of one row from \n",
    "    #training and test each\n",
    "    for i in range(N):\n",
    "        for j in range(M):\n",
    "            distances[i][j] = np.linalg.norm(training[i]-test[j])\n",
    "            \n",
    "    return distances"
   ]
  },
  {
   "cell_type": "markdown",
   "metadata": {},
   "source": [
    "### 3.3 Distance function computation using vectorization"
   ]
  },
  {
   "cell_type": "code",
   "execution_count": 5,
   "metadata": {},
   "outputs": [],
   "source": [
    "def dist_vec(training, test):\n",
    "    #test if the inputs are NxD, MxD matrices\n",
    "    assert (2 == len(np.shape(training))), \"training does not have a valid shape.\"\n",
    "    assert (2 == len(np.shape(test))), \"training does not have a valid shape.\"\n",
    "    assert (np.shape(test)[1] == np.shape(training)[1]), \"training and test do not have compatible shapes.\"   \n",
    "    \n",
    "    #convert trianing and test to numpy arrays\n",
    "    training = np.array(training)\n",
    "    test = np.array(test)\n",
    "    \n",
    "    distances = np.linalg.norm(training[:, np.newaxis]-test, axis=2)\n",
    "\n",
    "    return distances"
   ]
  },
  {
   "cell_type": "code",
   "execution_count": 6,
   "metadata": {},
   "outputs": [
    {
     "name": "stdout",
     "output_type": "stream",
     "text": [
      "[[ 5.65685425  8.48528137 11.3137085 ]\n",
      " [ 2.82842712  5.65685425  8.48528137]]\n",
      "[[ 5.65685425  8.48528137 11.3137085 ]\n",
      " [ 2.82842712  5.65685425  8.48528137]]\n",
      "43.2 ms ± 3.45 ms per loop (mean ± std. dev. of 7 runs, 10 loops each)\n",
      "7.18 s ± 448 ms per loop (mean ± std. dev. of 7 runs, 1 loop each)\n"
     ]
    }
   ],
   "source": [
    "#test if the results of dist_loop and dist_vec are the same\n",
    "x = np.array([[1,2],[3,4]])\n",
    "y  = np.array([[5,6],[7,8],[9,10]])\n",
    "\n",
    "z = dist_vec(x,y)\n",
    "print(z)\n",
    "\n",
    "z = dist_loop(x,y)\n",
    "print(z)\n",
    "\n",
    "#test which method needs longer\n",
    "x = np.ones(shape=(1000,3))\n",
    "y = 2 * np.ones(shape=(1000,3))\n",
    "\n",
    "%timeit dist_vec(x,y)\n",
    "%timeit dist_loop(x,y)"
   ]
  },
  {
   "cell_type": "markdown",
   "metadata": {},
   "source": [
    "We see that both functions deliver the same results, but with N = M = 1000 the vectorized function is two orders of magnitude faster."
   ]
  },
  {
   "cell_type": "markdown",
   "metadata": {},
   "source": [
    "### 3.4 k-Nearest-Neighbor-Classifier"
   ]
  },
  {
   "cell_type": "code",
   "execution_count": 7,
   "metadata": {},
   "outputs": [],
   "source": [
    "#function that returns a k-NN classifier\n",
    "def create_kNN(TS, k):\n",
    "    #the training dataset should be a numpy array of the form [[x_11,...,x_1D,y_1], [x21,...,x2D, y_2],...[x_N1,...,x_ND,y_N]]\n",
    "    \n",
    "    #define classifier\n",
    "    def classifier(x):\n",
    "        #training set\n",
    "        TS_X = TS.transpose()[:-1].transpose() \n",
    "        TS_Y = TS.transpose()[-1]\n",
    "        \n",
    "        #instance to be classified\n",
    "        X = x[:-1]\n",
    "        \n",
    "        #compute distances\n",
    "        dist = dist_vec(TS_X, np.array([X])).ravel()\n",
    "        \n",
    "        #determine the responses corresponding to the nearest feature vectors\n",
    "        Y_kNN = pd.Series(TS_Y[np.argsort(dist)[:k]])\n",
    "        tiebreak = TS_Y[np.argmin(dist)]\n",
    "        \n",
    "        #return the response which is most frequent\n",
    "        #in case of a tiebreak, the response of the nearest neighbor wins\n",
    "        if(len(Y_kNN.mode().to_numpy()) > 1):\n",
    "            return tiebreak\n",
    "        else:\n",
    "            return Y_kNN.mode().to_numpy()[0]\n",
    "    \n",
    "    return classifier"
   ]
  },
  {
   "cell_type": "code",
   "execution_count": 8,
   "metadata": {},
   "outputs": [],
   "source": [
    "#filter 3s and 9s from test set\n",
    "cond_test = np.logical_or(y_test==3, y_test==9)\n",
    "test = X_test[cond_test].transpose()\n",
    "test = np.append(test, [y_test[cond_test]], axis=0).transpose()\n",
    "\n",
    "#filter 3s and 9s from training set\n",
    "cond_train = np.logical_or(y_train==3, y_train==9)\n",
    "train = X_train[cond_train].transpose()\n",
    "train = np.append(train, [y_train[cond_train]], axis=0).transpose()"
   ]
  },
  {
   "cell_type": "code",
   "execution_count": 133,
   "metadata": {},
   "outputs": [
    {
     "name": "stdout",
     "output_type": "stream",
     "text": [
      "\n",
      "k = 1\n",
      "error rate:  0.013888888888888888\n",
      "\n",
      "k = 3\n",
      "error rate:  0.006944444444444444\n",
      "\n",
      "k = 5\n",
      "error rate:  0.006944444444444444\n",
      "\n",
      "k = 9\n",
      "error rate:  0.006944444444444444\n",
      "\n",
      "k = 17\n",
      "error rate:  0.006944444444444444\n",
      "\n",
      "k = 33\n",
      "error rate:  0.020833333333333332\n"
     ]
    }
   ],
   "source": [
    "#function that computes the error rate for a given classifier cl and a test set test\n",
    "def compute_error_rate(cl, test):\n",
    "    wrong = 0\n",
    "    \n",
    "    for x in test:\n",
    "        if (x[-1] != cl(x)):\n",
    "            wrong += 1\n",
    "            \n",
    "    return wrong/len(test)\n",
    "\n",
    "#apply the function on the kNN-classifier trained with train and several values for k\n",
    "K = [1,3,5,9,17,33]\n",
    "for k in K:\n",
    "    print(\"\\nk =\", k)\n",
    "    #define classifier\n",
    "    cl = create_kNN(train, k)\n",
    "    error_rate = compute_error_rate(cl, test)\n",
    "    print(\"error rate: \", error_rate)"
   ]
  },
  {
   "cell_type": "markdown",
   "metadata": {},
   "source": [
    "Just as one would expect, the error rate is higher for very low (k=1) and very high (k=33) values. The optimal error rate can be obtained vor intermediate values of k (for example k=3). From the results above, one cannot deduce, which value for k is optimal because we obtain the minimum error rate for several values for k (k=3,5,9,17). Maybe, a different test set could give us more information on that."
   ]
  },
  {
   "cell_type": "markdown",
   "metadata": {},
   "source": [
    "## 4 Cross-validation"
   ]
  },
  {
   "cell_type": "code",
   "execution_count": 180,
   "metadata": {},
   "outputs": [],
   "source": [
    "#define function that splits the data into L sub-arrays\n",
    "def split_folds(data, target, L):\n",
    "    #save data and target in one array\n",
    "    data_target = data.transpose()\n",
    "    data_target = np.append(data_target, [target], axis = 0).transpose()\n",
    "    \n",
    "    #shuffle the array\n",
    "    data_target = np.random.permutation(data_target)\n",
    "    \n",
    "    #split the array\n",
    "    data_target = np.array_split(data_target, L)\n",
    "    \n",
    "    #save the folds in arrays\n",
    "    X_folds = []\n",
    "    Y_folds = []\n",
    "    \n",
    "    for Set in data_target:\n",
    "        Set = Set.transpose()\n",
    "        d = Set[:-1].transpose()\n",
    "        t = Set[-1].transpose()\n",
    "        X_folds.append(d)\n",
    "        Y_folds.append(t)\n",
    "        \n",
    "    return [X_folds, Y_folds]"
   ]
  },
  {
   "cell_type": "code",
   "execution_count": 202,
   "metadata": {},
   "outputs": [
    {
     "name": "stdout",
     "output_type": "stream",
     "text": [
      "\n",
      "L = 2\n",
      "k=1, own kNN-classifier:\n",
      "0.017806223693239955 +- 0.0022160232478056537\n",
      "k=3, own kNN-classifier:\n",
      "0.017805604346328885 +- 0.003328989646997035\n",
      "k=1, sklearn kNN-classifier:\n",
      "0.01780622369323992 +- 0.0022160232478056763\n",
      "k=3, sklearn kNN-classifier:\n",
      "0.01891795139860919 +- 0.004441336699277376\n",
      "\n",
      "L = 5\n",
      "k=1, own kNN-classifier:\n",
      "0.01391674404209223 +- 0.008453997497936919\n",
      "k=3, own kNN-classifier:\n",
      "0.012802537913958526 +- 0.0064990228386734225\n",
      "k=1, sklearn kNN-classifier:\n",
      "0.0139167440420922 +- 0.008453997497936924\n",
      "k=3, sklearn kNN-classifier:\n",
      "0.013358093469514087 +- 0.006684229379490566\n",
      "\n",
      "L = 10\n",
      "k=1, own kNN-classifier:\n",
      "0.011682184978274364 +- 0.009112779636733306\n",
      "k=3, own kNN-classifier:\n",
      "0.011126629422718807 +- 0.006576106786032249\n",
      "k=1, sklearn kNN-classifier:\n",
      "0.011682184978274368 +- 0.00911277963673331\n",
      "k=3, sklearn kNN-classifier:\n",
      "0.011685288640595915 +- 0.007235198731071938\n"
     ]
    }
   ],
   "source": [
    "from sklearn.neighbors import KNeighborsClassifier\n",
    "\n",
    "L = [2,5,10] #Number of subsets\n",
    "\n",
    "errors_mean_sklearn_1 = np.array([])\n",
    "errors_mean_own_1 = np.array([])\n",
    "errors_mean_sklearn_3 = np.array([])\n",
    "errors_mean_own_3 = np.array([])\n",
    "\n",
    "for l in L:\n",
    "    X_folds, Y_folds = split_folds(data, target, l)\n",
    "    #array to save the error rates\n",
    "    error_rates_1 = np.array([])         #k=1, own kNN-classifier\n",
    "    error_rates_3 = np.array([])         #k=9, own kNN-classifier\n",
    "    error_rates_1_sklearn = np.array([]) #k=1, sklearn kNN-classifier\n",
    "    error_rates_3_sklearn = np.array([]) #k=9, sklearn kNN-classifier\n",
    "\n",
    "    #Compute the error rate L times with different test and training sets\n",
    "    for i in range(l):\n",
    "        test_set = X_folds[i].transpose()\n",
    "        test_set = np.append(test_set, [Y_folds[i]], axis=0).transpose()\n",
    "\n",
    "        np.warnings.filterwarnings('ignore', category=np.VisibleDeprecationWarning)\n",
    "\n",
    "        training_set = np.concatenate(np.delete(X_folds,i)).transpose()\n",
    "        training_set = np.append(training_set, [np.concatenate(np.delete(Y_folds,i))], axis=0).transpose()\n",
    "\n",
    "        #k=1, own kNN-classifier\n",
    "        cl = create_kNN(training_set, 1) \n",
    "        error_rates_1 = np.append(error_rates_1, compute_error_rate(cl, test_set))\n",
    "\n",
    "        #k=9, own kNN-classifier\n",
    "        cl = create_kNN(training_set, 3) \n",
    "        error_rates_3 = np.append(error_rates_3, compute_error_rate(cl, test_set))\n",
    "\n",
    "        test_X = X_folds[i]\n",
    "        test_Y = Y_folds[i]\n",
    "\n",
    "        training_X = np.concatenate(np.delete(X_folds,i))\n",
    "        training_Y = np.concatenate(np.delete(Y_folds,i))\n",
    "\n",
    "        #k=1, sklearn kNN-classifier\n",
    "        cl = KNeighborsClassifier(n_neighbors=1)\n",
    "        cl.fit(training_X, training_Y)\n",
    "        error_rates_1_sklearn = np.append(error_rates_1_sklearn, 1-np.sum(test_Y==cl.predict(test_X))/len(test_X))\n",
    "\n",
    "        #k=9, sklearn kNN-classifier\n",
    "        cl = KNeighborsClassifier(n_neighbors=3)\n",
    "        cl.fit(training_X, training_Y)\n",
    "        error_rates_3_sklearn = np.append(error_rates_3_sklearn, 1-np.sum(test_Y==cl.predict(test_X))/len(test_X))\n",
    "    \n",
    "    #print mean and std for the classifiers\n",
    "    print(\"\\nL =\", l)\n",
    "    print(\"k=1, own kNN-classifier:\")\n",
    "    print(np.mean(error_rates_1), \"+-\", np.std(error_rates_1))\n",
    "    errors_mean_own_1 = np.append(errors_mean_own_1, np.mean(error_rates_1))\n",
    "    print(\"k=3, own kNN-classifier:\")\n",
    "    print(np.mean(error_rates_3), \"+-\", np.std(error_rates_3))\n",
    "    errors_mean_own_3 = np.append(errors_mean_own_3, np.mean(error_rates_3))\n",
    "    print(\"k=1, sklearn kNN-classifier:\")\n",
    "    print(np.mean(error_rates_1_sklearn), \"+-\", np.std(error_rates_1_sklearn))\n",
    "    errors_mean_sklearn_1 = np.append(errors_mean_sklearn_1, np.mean(error_rates_1_sklearn))\n",
    "    print(\"k=3, sklearn kNN-classifier:\")\n",
    "    print(np.mean(error_rates_3_sklearn), \"+-\", np.std(error_rates_3_sklearn))\n",
    "    errors_mean_sklearn_3 = np.append(errors_mean_sklearn_3, np.mean(error_rates_3_sklearn))"
   ]
  },
  {
   "cell_type": "code",
   "execution_count": 206,
   "metadata": {},
   "outputs": [
    {
     "data": {
      "image/png": "[encoded data removed]",
      "text/plain": [
       "<Figure size 720x720 with 1 Axes>"
      ]
     },
     "metadata": {
      "needs_background": "light"
     },
     "output_type": "display_data"
    }
   ],
   "source": [
    "#create plot of the results\n",
    "L = [2,5,10]\n",
    "\n",
    "fig = plt.figure(figsize=(10,10))\n",
    "ax = fig.add_subplot(111)\n",
    "ax.plot(L,errors_mean_own_1, color=\"blue\", label=\"own, k=1\", marker=\"o\")\n",
    "ax.plot(L,errors_mean_own_3, color=\"green\", label=\"own, k=3\", marker=\"o\")\n",
    "ax.plot(L,errors_mean_sklearn_1, color=\"red\", label=\"sklearn, k=1\", linestyle=\"dashed\", marker=\"o\")\n",
    "ax.plot(L,errors_mean_sklearn_3, color=\"orange\", label=\"sklearn, k=3\", linestyle=\"dashed\", marker=\"o\")\n",
    "ax.set_xlabel(\"L\")\n",
    "ax.set_ylabel(\"error rate\")\n",
    "ax.legend()\n",
    "plt.show()"
   ]
  },
  {
   "cell_type": "markdown",
   "metadata": {},
   "source": [
    "We can clearly see that the error is lower for large L (which means large training sets). For k=3 the errir rate seems to be a little bit lower than for k=1"
   ]
  }
 ],
 "metadata": {
  "kernelspec": {
   "display_name": "Python 3",
   "language": "python",
   "name": "python3"
  },
  "language_info": {
   "codemirror_mode": {
    "name": "ipython",
    "version": 3
   },
   "file_extension": ".py",
   "mimetype": "text/x-python",
   "name": "python",
   "nbconvert_exporter": "python",
   "pygments_lexer": "ipython3",
   "version": "3.8.5"
  }
 },
 "nbformat": 4,
 "nbformat_minor": 4
}
