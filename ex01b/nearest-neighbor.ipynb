{
 "cells": [
  {
   "cell_type": "markdown",
   "metadata": {},
   "source": [
    "# Exercise 1 b\n",
    "## 3 Nearest Neighbor Classification on Real Data\n",
    "### 3.1 Exploring the Data"
   ]
  },
  {
   "cell_type": "code",
   "execution_count": 6,
   "metadata": {},
   "outputs": [
    {
     "name": "stdout",
     "output_type": "stream",
     "text": [
      "dict_keys(['data', 'target', 'frame', 'feature_names', 'target_names', 'images', 'DESCR'])\n",
      "float64\n",
      "(8, 8)\n"
     ]
    }
   ],
   "source": [
    "#load dataset from sklearn\n",
    "from sklearn.datasets import load_digits\n",
    "\n",
    "digits = load_digits()\n",
    "\n",
    "print(digits.keys())\n",
    "\n",
    "data         = digits[\"data\"]\n",
    "images       = digits[\"images\"]\n",
    "target       = digits[\"target\"]\n",
    "target_names = digits[\"target_names\"]\n",
    "\n",
    "print(data.dtype)\n",
    "\n",
    "#check, what is the size of the images\n",
    "print(images[0].shape)"
   ]
  },
  {
   "cell_type": "markdown",
   "metadata": {},
   "source": [
    "As we can see the size of the images is 8x8."
   ]
  },
  {
   "cell_type": "code",
   "execution_count": 22,
   "metadata": {},
   "outputs": [
    {
     "data": {
      "image/png": "[encoded data removed]",
      "text/plain": [
       "<Figure size 432x288 with 1 Axes>"
      ]
     },
     "metadata": {
      "needs_background": "light"
     },
     "output_type": "display_data"
    }
   ],
   "source": [
    "#import libraries\n",
    "import numpy as np\n",
    "import matplotlib.pyplot as plt\n",
    "\n",
    "img = images[13]\n",
    "\n",
    "assert (2 == len(img.shape)), \"img does not have a valid shape\"\n",
    "\n",
    "plt.figure()\n",
    "plt.gray()\n",
    "plt.imshow(img, interpolation=\"nearest\")\n",
    "plt.show()"
   ]
  },
  {
   "cell_type": "markdown",
   "metadata": {},
   "source": [
    "We plotted some of the images and found out that for example the 13th image is a 3."
   ]
  },
  {
   "cell_type": "code",
   "execution_count": 25,
   "metadata": {},
   "outputs": [],
   "source": [
    "#Split the data into a training and a test set\n",
    "from sklearn import model_selection\n",
    "\n",
    "X_all = data\n",
    "y_all = target\n",
    "\n",
    "X_train, X_test, y_train, y_test =\\\n",
    "    model_selection.train_test_split(digits.data, digits.target, \n",
    "                                    test_size = 0.4, random_state = 0)"
   ]
  },
  {
   "cell_type": "markdown",
   "metadata": {},
   "source": [
    "### 3.2 Distance function computation using loops"
   ]
  },
  {
   "cell_type": "code",
   "execution_count": 145,
   "metadata": {},
   "outputs": [],
   "source": [
    "#define euclidian distance function using loops\n",
    "def dist_loop(training, test):\n",
    "    #test if the inputs are NxD, MxD matrices\n",
    "    assert (2 == len(np.shape(training))), \"training does not have a valid shape.\"\n",
    "    assert (2 == len(np.shape(test))), \"training does not have a valid shape.\"\n",
    "    assert (np.shape(test)[1] == np.shape(training)[1]), \"training and test do not have compatible shapes.\"\n",
    "    \n",
    "    #introduce MxN array for the output\n",
    "    N = np.shape(training)[0]\n",
    "    M = np.shape(test)[0]\n",
    "    D = np.shape(training)[1]\n",
    "    distances = np.zeros(shape=(N,M))\n",
    "    \n",
    "    #convert the input to numpy arrays\n",
    "    training = np.array(training)\n",
    "    test = np.array(test)\n",
    "    \n",
    "    #compute the euclidian distance for every combination of one row from \n",
    "    #training and test each\n",
    "    for i in range(N):\n",
    "        for j in range(M):\n",
    "            distances[i][j] = np.linalg.norm(training[i]-test[j])\n",
    "            \n",
    "    return distances"
   ]
  },
  {
   "cell_type": "markdown",
   "metadata": {},
   "source": [
    "### 3.3 Distance function computation using vectorization"
   ]
  },
  {
   "cell_type": "code",
   "execution_count": 171,
   "metadata": {},
   "outputs": [],
   "source": [
    "def dist_vec(training, test):\n",
    "    #test if the inputs are NxD, MxD matrices\n",
    "    assert (2 == len(np.shape(training))), \"training does not have a valid shape.\"\n",
    "    assert (2 == len(np.shape(test))), \"training does not have a valid shape.\"\n",
    "    assert (np.shape(test)[1] == np.shape(training)[1]), \"training and test do not have compatible shapes.\"   \n",
    "    \n",
    "    #convert trianing and test to numpy arrays\n",
    "    training = np.array(training)\n",
    "    test = np.array(test)\n",
    "    \n",
    "    distances = np.linalg.norm(training[:, np.newaxis]-test, axis=2)\n",
    "\n",
    "    return distances"
   ]
  },
  {
   "cell_type": "code",
   "execution_count": 172,
   "metadata": {},
   "outputs": [
    {
     "name": "stdout",
     "output_type": "stream",
     "text": [
      "[[ 5.65685425  8.48528137 11.3137085 ]\n",
      " [ 2.82842712  5.65685425  8.48528137]]\n",
      "[[ 5.65685425  8.48528137 11.3137085 ]\n",
      " [ 2.82842712  5.65685425  8.48528137]]\n",
      "38.5 ms ± 1.59 ms per loop (mean ± std. dev. of 7 runs, 10 loops each)\n",
      "6.35 s ± 179 ms per loop (mean ± std. dev. of 7 runs, 1 loop each)\n"
     ]
    }
   ],
   "source": [
    "#test if the results of dist_loop and dist_vec are the same\n",
    "x = np.array([[1,2],[3,4]])\n",
    "y  = np.array([[5,6],[7,8],[9,10]])\n",
    "\n",
    "z = dist_vec(x,y)\n",
    "print(z)\n",
    "\n",
    "z = dist_loop(x,y)\n",
    "print(z)\n",
    "\n",
    "#test which method needs longer\n",
    "x = np.ones(shape=(1000,3))\n",
    "y = 2 * np.ones(shape=(1000,3))\n",
    "\n",
    "%timeit dist_vec(x,y)\n",
    "%timeit dist_loop(x,y)"
   ]
  },
  {
   "cell_type": "markdown",
   "metadata": {},
   "source": [
    "We see that both functions deliver the same results, but with N = M = 1000 the vectorized function is two orders of magnitude faster."
   ]
  },
  {
   "cell_type": "code",
   "execution_count": null,
   "metadata": {},
   "outputs": [],
   "source": []
  }
 ],
 "metadata": {
  "kernelspec": {
   "display_name": "Python 3",
   "language": "python",
   "name": "python3"
  },
  "language_info": {
   "codemirror_mode": {
    "name": "ipython",
    "version": 3
   },
   "file_extension": ".py",
   "mimetype": "text/x-python",
   "name": "python",
   "nbconvert_exporter": "python",
   "pygments_lexer": "ipython3",
   "version": "3.8.5"
  }
 },
 "nbformat": 4,
 "nbformat_minor": 4
}
