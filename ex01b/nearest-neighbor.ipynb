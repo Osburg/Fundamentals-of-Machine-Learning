{
 "cells": [
  {
   "cell_type": "markdown",
   "metadata": {},
   "source": [
    "# Exercise 1 b\n",
    "## 3 Nearest Neighbor Classification on Real Data\n",
    "### 3.1 Exploring the Data"
   ]
  },
  {
   "cell_type": "code",
   "execution_count": 254,
   "metadata": {},
   "outputs": [
    {
     "name": "stdout",
     "output_type": "stream",
     "text": [
      "dict_keys(['data', 'target', 'frame', 'feature_names', 'target_names', 'images', 'DESCR'])\n",
      "float64\n",
      "(8, 8)\n"
     ]
    }
   ],
   "source": [
    "#load dataset from sklearn\n",
    "from sklearn.datasets import load_digits\n",
    "\n",
    "digits = load_digits()\n",
    "\n",
    "print(digits.keys())\n",
    "\n",
    "data         = digits[\"data\"]\n",
    "images       = digits[\"images\"]\n",
    "target       = digits[\"target\"]\n",
    "target_names = digits[\"target_names\"]\n",
    "\n",
    "print(data.dtype)\n",
    "\n",
    "#check, what is the size of the images\n",
    "print(images[0].shape)"
   ]
  },
  {
   "cell_type": "markdown",
   "metadata": {},
   "source": [
    "As we can see the size of the images is 8x8."
   ]
  },
  {
   "cell_type": "code",
   "execution_count": 255,
   "metadata": {
    "collapsed": true,
    "jupyter": {
     "outputs_hidden": true
    }
   },
   "outputs": [
    {
     "data": {
      "image/png": "[encoded data removed]",
      "text/plain": [
       "<Figure size 432x288 with 1 Axes>"
      ]
     },
     "metadata": {
      "needs_background": "light"
     },
     "output_type": "display_data"
    }
   ],
   "source": [
    "#import libraries\n",
    "import numpy as np\n",
    "import matplotlib.pyplot as plt\n",
    "import pandas as pd\n",
    "\n",
    "img = images[13]\n",
    "\n",
    "assert (2 == len(img.shape)), \"img does not have a valid shape\"\n",
    "\n",
    "plt.figure()\n",
    "plt.gray()\n",
    "plt.imshow(img, interpolation=\"nearest\")\n",
    "plt.show()"
   ]
  },
  {
   "cell_type": "markdown",
   "metadata": {},
   "source": [
    "We plotted some of the images and found out that for example the 13th image is a 3."
   ]
  },
  {
   "cell_type": "code",
   "execution_count": 256,
   "metadata": {},
   "outputs": [],
   "source": [
    "#Split the data into a training and a test set\n",
    "from sklearn import model_selection\n",
    "\n",
    "X_all = data\n",
    "y_all = target\n",
    "\n",
    "X_train, X_test, y_train, y_test =\\\n",
    "    model_selection.train_test_split(digits.data, digits.target, \n",
    "                                    test_size = 0.4, random_state = 0)"
   ]
  },
  {
   "cell_type": "markdown",
   "metadata": {},
   "source": [
    "### 3.2 Distance function computation using loops"
   ]
  },
  {
   "cell_type": "code",
   "execution_count": 257,
   "metadata": {},
   "outputs": [],
   "source": [
    "#define euclidian distance function using loops\n",
    "def dist_loop(training, test):\n",
    "    #test if the inputs are NxD, MxD matrices\n",
    "    assert (2 == len(np.shape(training))), \"training does not have a valid shape.\"\n",
    "    assert (2 == len(np.shape(test))), \"training does not have a valid shape.\"\n",
    "    assert (np.shape(test)[1] == np.shape(training)[1]), \"training and test do not have compatible shapes.\"\n",
    "    \n",
    "    #introduce MxN array for the output\n",
    "    N = np.shape(training)[0]\n",
    "    M = np.shape(test)[0]\n",
    "    D = np.shape(training)[1]\n",
    "    distances = np.zeros(shape=(N,M))\n",
    "    \n",
    "    #convert the input to numpy arrays\n",
    "    training = np.array(training)\n",
    "    test = np.array(test)\n",
    "    \n",
    "    #compute the euclidian distance for every combination of one row from \n",
    "    #training and test each\n",
    "    for i in range(N):\n",
    "        for j in range(M):\n",
    "            distances[i][j] = np.linalg.norm(training[i]-test[j])\n",
    "            \n",
    "    return distances"
   ]
  },
  {
   "cell_type": "markdown",
   "metadata": {},
   "source": [
    "### 3.3 Distance function computation using vectorization"
   ]
  },
  {
   "cell_type": "code",
   "execution_count": 258,
   "metadata": {},
   "outputs": [],
   "source": [
    "def dist_vec(training, test):\n",
    "    #test if the inputs are NxD, MxD matrices\n",
    "    assert (2 == len(np.shape(training))), \"training does not have a valid shape.\"\n",
    "    assert (2 == len(np.shape(test))), \"training does not have a valid shape.\"\n",
    "    assert (np.shape(test)[1] == np.shape(training)[1]), \"training and test do not have compatible shapes.\"   \n",
    "    \n",
    "    #convert trianing and test to numpy arrays\n",
    "    training = np.array(training)\n",
    "    test = np.array(test)\n",
    "    \n",
    "    distances = np.linalg.norm(training[:, np.newaxis]-test, axis=2)\n",
    "\n",
    "    return distances"
   ]
  },
  {
   "cell_type": "code",
   "execution_count": 262,
   "metadata": {},
   "outputs": [
    {
     "name": "stdout",
     "output_type": "stream",
     "text": [
      "[[ 5.65685425  8.48528137 11.3137085 ]\n",
      " [ 2.82842712  5.65685425  8.48528137]]\n",
      "[[ 5.65685425  8.48528137 11.3137085 ]\n",
      " [ 2.82842712  5.65685425  8.48528137]]\n",
      "121 ms ± 11.1 ms per loop (mean ± std. dev. of 7 runs, 10 loops each)\n",
      "16.7 s ± 824 ms per loop (mean ± std. dev. of 7 runs, 1 loop each)\n"
     ]
    }
   ],
   "source": [
    "#test if the results of dist_loop and dist_vec are the same\n",
    "x = np.array([[1,2],[3,4]])\n",
    "y  = np.array([[5,6],[7,8],[9,10]])\n",
    "\n",
    "z = dist_vec(x,y)\n",
    "print(z)\n",
    "\n",
    "z = dist_loop(x,y)\n",
    "print(z)\n",
    "\n",
    "#test which method needs longer\n",
    "x = np.ones(shape=(1000,3))\n",
    "y = 2 * np.ones(shape=(1000,3))\n",
    "\n",
    "%timeit dist_vec(x,y)\n",
    "%timeit dist_loop(x,y)"
   ]
  },
  {
   "cell_type": "markdown",
   "metadata": {},
   "source": [
    "We see that both functions deliver the same results, but with N = M = 1000 the vectorized function is two orders of magnitude faster."
   ]
  },
  {
   "cell_type": "markdown",
   "metadata": {},
   "source": [
    "### 3.4 k-Nearest-Neighbor-Classifier"
   ]
  },
  {
   "cell_type": "code",
   "execution_count": 299,
   "metadata": {},
   "outputs": [],
   "source": [
    "#function that returns a k-NN classifier\n",
    "def create_kNN(TS, k):\n",
    "    #the training dataset should be a numpy array of the form [[x_11,...,x_1D,y_1], [x21,...,x2D, y_2],...[x_N1,...,x_ND,y_N]]\n",
    "    \n",
    "    #define classifier\n",
    "    def classifier(x):\n",
    "        #training set\n",
    "        TS_X = TS.transpose()[:-1].transpose() \n",
    "        TS_Y = TS.transpose()[-1]\n",
    "        \n",
    "        #instance to be classified\n",
    "        X = x[:-1]\n",
    "        \n",
    "        #compute distances\n",
    "        dist = dist_vec(TS_X, np.array([X])).ravel()\n",
    "        \n",
    "        #determine the responses corresponding to the nearest feature vectors\n",
    "        Y_kNN = pd.Series(TS_Y[np.argsort(dist)[:k]])\n",
    "        tiebreak = TS_Y[np.argmin(dist)]\n",
    "        \n",
    "        #return the response which is most frequent\n",
    "        #in case of a tiebreak, the response of the nearest neighbor wins\n",
    "        if(len(Y_kNN.mode().to_numpy()) > 1):\n",
    "            return tiebreak\n",
    "        else:\n",
    "            return Y_kNN.mode().to_numpy()[0]\n",
    "    \n",
    "    return classifier"
   ]
  },
  {
   "cell_type": "code",
   "execution_count": 300,
   "metadata": {},
   "outputs": [],
   "source": [
    "#filter 3s and 9s from test set\n",
    "cond_test = np.logical_or(y_test==3, y_test==9)\n",
    "test = X_test[cond_test].transpose()\n",
    "test = np.append(test, [y_test[cond_test]], axis=0).transpose()\n",
    "\n",
    "#filter 3s and 9s from training set\n",
    "cond_train = np.logical_or(y_train==3, y_train==9)\n",
    "train = X_train[cond_train].transpose()\n",
    "train = np.append(train, [y_train[cond_train]], axis=0).transpose()"
   ]
  },
  {
   "cell_type": "code",
   "execution_count": 302,
   "metadata": {},
   "outputs": [
    {
     "name": "stdout",
     "output_type": "stream",
     "text": [
      "\n",
      "k = 1\n",
      "error rate:  0.013888888888888888\n",
      "\n",
      "k = 3\n",
      "error rate:  0.006944444444444444\n",
      "\n",
      "k = 5\n",
      "error rate:  0.006944444444444444\n",
      "\n",
      "k = 9\n",
      "error rate:  0.006944444444444444\n",
      "\n",
      "k = 17\n",
      "error rate:  0.006944444444444444\n",
      "\n",
      "k = 33\n",
      "error rate:  0.020833333333333332\n"
     ]
    }
   ],
   "source": [
    "#function that computes the error rate for a given classifier cl and a test set test\n",
    "def compute_error_rate(cl, test):\n",
    "    wrong = 0\n",
    "    \n",
    "    for x in test:\n",
    "        if (x[-1] != cl(x)):\n",
    "            wrong += 1\n",
    "            \n",
    "    return wrong/len(test)\n",
    "\n",
    "#apply the function on the kNN-classifier trained with train and several values for k\n",
    "K = [1,3,5,9,17,33]\n",
    "for k in K:\n",
    "    print(\"\\nk =\", k)\n",
    "    #define classifier\n",
    "    cl = create_kNN(train, k)\n",
    "    error_rate = compute_error_rate(cl, test)\n",
    "    print(\"error rate: \", error_rate)"
   ]
  },
  {
   "cell_type": "markdown",
   "metadata": {},
   "source": [
    "Just as one would expect, the error rate is higher for very low (k=1) and very high (k=33) values. The optimal error rate can be obtained vor intermediate values of k (for example k= 9). From the results above, one cannot deduce, which value for k is optimal because we obtain the minimum error rate for several values for k (k=3,5,9,17). Maybe, a different test set could give us more information on that."
   ]
  }
 ],
 "metadata": {
  "kernelspec": {
   "display_name": "Python 3",
   "language": "python",
   "name": "python3"
  },
  "language_info": {
   "codemirror_mode": {
    "name": "ipython",
    "version": 3
   },
   "file_extension": ".py",
   "mimetype": "text/x-python",
   "name": "python",
   "nbconvert_exporter": "python",
   "pygments_lexer": "ipython3",
   "version": "3.8.5"
  }
 },
 "nbformat": 4,
 "nbformat_minor": 4
}
