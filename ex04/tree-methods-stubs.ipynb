{
 "cells": [
  {
   "cell_type": "code",
   "execution_count": 1,
   "metadata": {},
   "outputs": [
    {
     "data": {
      "text/plain": [
       "Ellipsis"
      ]
     },
     "execution_count": 1,
     "metadata": {},
     "output_type": "execute_result"
    }
   ],
   "source": [
    "# import modules\n",
    "import numpy as np\n",
    "from sklearn.datasets import load_digits\n",
    "import matplotlib.pyplot as plt\n",
    "... # your code here"
   ]
  },
  {
   "cell_type": "code",
   "execution_count": 2,
   "metadata": {},
   "outputs": [],
   "source": [
    "# base classes\n",
    "\n",
    "class Node:\n",
    "    pass\n",
    "\n",
    "class Tree:\n",
    "    def __init__(self):\n",
    "        self.root = Node()\n",
    "    \n",
    "    def find_leaf(self, x):\n",
    "        node = self.root\n",
    "        while hasattr(node, \"feature\"):\n",
    "            j = node.feature\n",
    "            if x[j] <= node.threshold:\n",
    "                node = node.left\n",
    "            else:\n",
    "                node = node.right\n",
    "        return node"
   ]
  },
  {
   "cell_type": "markdown",
   "metadata": {},
   "source": [
    "# Density Tree"
   ]
  },
  {
   "cell_type": "code",
   "execution_count": 3,
   "metadata": {},
   "outputs": [],
   "source": [
    "class DensityTree(Tree):\n",
    "    def __init__(self):\n",
    "        super(DensityTree, self).__init__()\n",
    "        \n",
    "    def train(self, data, prior, n_min=10):\n",
    "        '''\n",
    "        data: the feature matrix for the digit under consideration\n",
    "        prior: the prior probability of this digit\n",
    "        n_min: termination criterion (don't split if a node contains fewer instances)\n",
    "        '''\n",
    "        self.prior = prior\n",
    "        N, D = data.shape\n",
    "        D_try = int(np.sqrt(D)) # number of features to consider for each split decision\n",
    "\n",
    "        # find and remember the tree's bounding box, \n",
    "        # i.e. the lower and upper limits of the training feature set\n",
    "        m, M = np.min(data, axis=0), np.max(data, axis=0)\n",
    "        self.box = m.copy(), M.copy()\n",
    "        \n",
    "        # identify invalid features and adjust the bounding box\n",
    "        # (If m[j] == M[j] for some j, the bounding box has zero volume, \n",
    "        #  causing divide-by-zero errors later on. We must exclude these\n",
    "        #  features from splitting and adjust the bounding box limits \n",
    "        #  such that invalid features have no effect on the volume.)\n",
    "        valid_features   = np.where(m != M)[0]\n",
    "        invalid_features = np.where(m == M)[0]\n",
    "        M[invalid_features] = m[invalid_features] + 1\n",
    "\n",
    "        # initialize the root node\n",
    "        self.root.data = data\n",
    "        self.root.box = m.copy(), M.copy()\n",
    "\n",
    "        # build the tree\n",
    "        stack = [self.root]\n",
    "        while len(stack):\n",
    "            node = stack.pop()\n",
    "            n = node.data.shape[0] # number of instances in present node\n",
    "            if n >= n_min:\n",
    "                # Call 'make_density_split_node()' with 'D_try' randomly selected \n",
    "                # indices from 'valid_features'. This turns 'node' into a split node\n",
    "                # and returns the two children, which must be placed on the 'stack'\n",
    "                \n",
    "                #Split two nodes\n",
    "                left, right = make_density_split_node(node,N,np.random.choice(valid_features, D_try))\n",
    "                stack.append(left)\n",
    "                stack.append(right)\n",
    "            else:\n",
    "                # Call 'make_density_leaf_node()' to turn 'node' into a leaf node.\n",
    "                make_density_leaf_node(node, N)# your code here\n",
    "\n",
    "    def predict(self, x):\n",
    "        m, M = self.box\n",
    "        leaf = self.find_leaf(x)\n",
    "        p = leaf.response*self.prior\n",
    "        if (np.all(x<=M) and np.all(x>=m)):\n",
    "            return p\n",
    "        else:\n",
    "            return 0\n",
    "        # return p(x | y) * p(y) if x is within the tree's bounding box \n",
    "        # and return 0 otherwise"
   ]
  },
  {
   "cell_type": "code",
   "execution_count": 4,
   "metadata": {},
   "outputs": [],
   "source": [
    "def make_density_split_node(node, N, feature_indices):\n",
    "    '''\n",
    "    node: the node to be split\n",
    "    N:    the total number of training instances for the current class\n",
    "    feature_indices: a numpy array of length 'D_try', containing the feature \n",
    "                     indices to be considered in the present split\n",
    "    '''\n",
    "    n, D = node.data.shape\n",
    "    m, M = node.box\n",
    "    \n",
    "    #Volume of the Parent Node\n",
    "    V = np.product(M-m)\n",
    "\n",
    "    # find best feature j (among 'feature_indices') and best threshold t for the split\n",
    "    e_min = float(\"inf\")\n",
    "    j_min, t_min = None, None\n",
    "    \n",
    "    for j in feature_indices:\n",
    "        # Hint: For each feature considered, first remove duplicate feature values using \n",
    "        # 'np.unique()'. Describe here why this is necessary.\n",
    "        # ANSWER: It is necessary to remove repeated instances in order for thresholds to not cross data points. Otherwise we could end up with children nodes \n",
    "        # which either have no data (if inequality is inclusive) or that have the same data in both left and right nodes\n",
    "        \n",
    "        data_unique = np.sort(np.unique(node.data[:, j]))\n",
    "        # Compute candidate thresholds\n",
    "        tj = (data_unique[1:] + data_unique[:-1])/2.0\n",
    "        \n",
    "        \n",
    "        # Illustration: for loop - hint: vectorized version is possible\n",
    "        for t in tj:\n",
    "            #Compute number of instances left and right of threshold t\n",
    "            Nl = len(data[data[:,j]<t,j]) \n",
    "            Nr = len(data[data[:,j]>t,j])\n",
    "            \n",
    "            #Compute volume of threshold\n",
    "            Vl = V*(t-m[j])/(M[j]-m[j])\n",
    "            Vr = V - Vl\n",
    "            \n",
    "            #Compute LOO error for both left and right children and add them\n",
    "            loo_error = (Nl/(N*Vl))*(Nl/N - 2.0*(Nl-1)/(N-1)) + (Nr/(N*Vr))*(Nr/N - 2.0*(Nr-1)/(N-1))\n",
    "            \n",
    "            # choose the best threshold that minimi\n",
    "            if loo_error < e_min:\n",
    "                e_min = loo_error\n",
    "                j_min = j\n",
    "                t_min = t\n",
    "                \n",
    "                \n",
    "    # create children\n",
    "    left = Node()\n",
    "    right = Node()\n",
    "    \n",
    "    X = node.data[:,j_min]\n",
    "    M_left = M.copy()\n",
    "    m_right = m.copy()\n",
    "    \n",
    "    M_left[j_min] = t_min\n",
    "    m_right[j_min] = t_min\n",
    "    \n",
    "    # initialize 'left' and 'right' with the data subsets and bounding boxes\n",
    "    # according to the optimal split found above\n",
    "    left.data = node.data[X<t_min,:] # store data in left node -- for subsequent splits\n",
    "    left.box = m, M_left # store bounding box in left node\n",
    "    right.data = node.data[X>t_min,:]\n",
    "    right.box = m_right, M\n",
    "\n",
    "    # turn the current 'node' into a split node\n",
    "    # (store children and split condition)\n",
    "    node.left = left\n",
    "    node.right = right\n",
    "    node.feature = j_min\n",
    "    node.threshold = t_min\n",
    "\n",
    "    # return the children (to be placed on the stack)\n",
    "    return left, right"
   ]
  },
  {
   "cell_type": "code",
   "execution_count": 5,
   "metadata": {},
   "outputs": [],
   "source": [
    "def make_density_leaf_node(node, N):\n",
    "    '''\n",
    "    node: the node to become a leaf\n",
    "    N:    the total number of training instances for the current class\n",
    "    '''\n",
    "    # compute and store leaf response\n",
    "    m, M = node.box\n",
    "    n = node.data.shape[0]\n",
    "    v = np.product(M-m)\n",
    "    node.response = n/(v*N)"
   ]
  },
  {
   "cell_type": "markdown",
   "metadata": {},
   "source": [
    "# Decision Tree"
   ]
  },
  {
   "cell_type": "code",
   "execution_count": 6,
   "metadata": {},
   "outputs": [],
   "source": [
    "class DecisionTree(Tree):\n",
    "    def __init__(self):\n",
    "        super(DecisionTree, self).__init__()\n",
    "        \n",
    "    def train(self, data, labels, n_min=20):\n",
    "        '''\n",
    "        data: the feature matrix for all digits\n",
    "        labels: the corresponding ground-truth responses\n",
    "        n_min: termination criterion (don't split if a node contains fewer instances)\n",
    "        '''\n",
    "        N, D = data.shape\n",
    "        D_try = int(np.sqrt(D)) # how many features to consider for each split decision\n",
    "\n",
    "        # initialize the root node\n",
    "        self.root.data = data\n",
    "        self.root.labels = labels\n",
    "        \n",
    "        stack = [self.root]\n",
    "        while len(stack):\n",
    "            node = stack.pop()\n",
    "            n = node.data.shape[0] # number of instances in present node\n",
    "            if n >= n_min and not node_is_pure(node):\n",
    "                #randomly choose D_try features\n",
    "                feature_indices = np.random.choice(D, D_try, replace=False)\n",
    "                #split the node into two\n",
    "                left, right = make_decision_split_node(node, feature_indices)\n",
    "                #put the two nodes on the stack\n",
    "                stack.append(left)\n",
    "                stack.append(right)\n",
    "            else:\n",
    "                make_decision_leaf_node(node)\n",
    "                \n",
    "    def predict(self, x):\n",
    "        leaf = self.find_leaf(x)\n",
    "        return leaf.response"
   ]
  },
  {
   "cell_type": "code",
   "execution_count": 7,
   "metadata": {},
   "outputs": [],
   "source": [
    "def make_decision_split_node(node, feature_indices):\n",
    "    '''\n",
    "    node: the node to be split\n",
    "    feature_indices: a numpy array of length 'D_try', containing the feature \n",
    "                     indices to be considered in the present split\n",
    "    '''\n",
    "    n, D = node.data.shape\n",
    "\n",
    "    # find best feature j (among 'feature_indices') and best threshold t for the split\n",
    "    #(mainly copied from \"density tree\")\n",
    "    e_min = float(\"inf\")\n",
    "    j_min, t_min = None, None\n",
    "    for j in feature_indices:\n",
    "        data_unique = np.sort(np.unique(node.data[:, j]))\n",
    "        tj = (data_unique[1:] + data_unique[:-1])/2.0\n",
    "        \n",
    "        for t in tj:\n",
    "            data_left = node.data[:, j].copy()\n",
    "            labels_left = node.labels[data_left<=t].copy()\n",
    "            data_left = data_left[data_left<=t]\n",
    "            \n",
    "            data_right = node.data[:, j].copy()\n",
    "            labels_right = node.labels[data_right>t].copy()\n",
    "            data_right = data_right[data_right>t]\n",
    "            \n",
    "            #Compute number of instances left and right of threshold t\n",
    "            Nl = len(data_left)\n",
    "            Nr = len(data_right)\n",
    "            \n",
    "            #compute the number of instances of each class left and right\n",
    "            classes = np.unique(node.labels)\n",
    "            Nlk = np.empty(len(classes))\n",
    "            Nrk = np.empty(len(classes))\n",
    "            for i, c in enumerate(classes):\n",
    "                Nlk[i] = len(labels_left[labels_left==c])\n",
    "                Nrk[i] = len(labels_right[labels_right==c])\n",
    "            \n",
    "            #Compute LOO error for both left and right children and add them\n",
    "            gini = Nl*(1-np.sum(Nlk**2)/Nl**2)+Nr*(1-np.sum(Nrk**2)/Nr**2)\n",
    "            \n",
    "            # choose the best threshold that minimizes gini\n",
    "            if gini < e_min:\n",
    "                e_min = gini\n",
    "                j_min = j\n",
    "                t_min = t\n",
    "    \n",
    "    # create children\n",
    "    left = Node()\n",
    "    right = Node()\n",
    "    \n",
    "    X = node.data[:, j_min]\n",
    "\n",
    "    # initialize 'left' and 'right' with the data subsets and labels\n",
    "    # according to the optimal split found above\n",
    "    left.data = node.data[X<=t_min]# data in left node\n",
    "    left.labels = node.labels[X<=t_min] # corresponding labels\n",
    "    right.data = node.data[X>t_min]\n",
    "    right.labels = node.labels[X>t_min]\n",
    "\n",
    "    # turn the current 'node' into a split node\n",
    "    # (store children and split condition)\n",
    "    node.left = left\n",
    "    node.right = right\n",
    "    node.feature = j_min\n",
    "    node.threshold = t_min\n",
    "\n",
    "    # return the children (to be placed on the stack)\n",
    "    return left, right    "
   ]
  },
  {
   "cell_type": "code",
   "execution_count": 8,
   "metadata": {},
   "outputs": [],
   "source": [
    "def make_decision_leaf_node(node):\n",
    "    '''\n",
    "    node: the node to become a leaf\n",
    "    '''\n",
    "    # compute and store leaf response\n",
    "    node.N = len(node.labels)\n",
    "    node.response = np.sum(1*(node.labels[:, np.newaxis] == np.arange(10)), axis =0)/node.N"
   ]
  },
  {
   "cell_type": "code",
   "execution_count": 9,
   "metadata": {},
   "outputs": [],
   "source": [
    "def node_is_pure(node):\n",
    "    '''\n",
    "    check if 'node' ontains only instances of the same digit\n",
    "    '''\n",
    "    return (len(np.unique(node.labels))<=1)"
   ]
  },
  {
   "cell_type": "markdown",
   "metadata": {},
   "source": [
    "# Evaluation of Density and Decision Tree"
   ]
  },
  {
   "cell_type": "code",
   "execution_count": 10,
   "metadata": {},
   "outputs": [],
   "source": [
    "# read and prepare the digits data\n",
    "digits = load_digits()\n",
    "data = digits[\"data\"]\n",
    "target = digits[\"target\"]\n",
    "labels = np.array([0,1,2,3,4,5,6,7,8,9])\n",
    "# your code here"
   ]
  },
  {
   "cell_type": "code",
   "execution_count": 11,
   "metadata": {},
   "outputs": [
    {
     "name": "stdout",
     "output_type": "stream",
     "text": [
      "Density Confusion Matrix\n"
     ]
    },
    {
     "data": {
      "image/png": "[encoded data removed]",
      "text/plain": [
       "<Figure size 432x288 with 1 Axes>"
      ]
     },
     "metadata": {
      "needs_background": "light"
     },
     "output_type": "display_data"
    },
    {
     "name": "stdout",
     "output_type": "stream",
     "text": [
      "Decision Confusion Matrix\n"
     ]
    },
    {
     "data": {
      "text/plain": [
       "<matplotlib.image.AxesImage at 0x11f6c0700>"
      ]
     },
     "metadata": {},
     "output_type": "display_data"
    },
    {
     "data": {
      "image/png": "[encoded data removed]",
      "text/plain": [
       "<Figure size 432x288 with 1 Axes>"
      ]
     },
     "metadata": {
      "needs_background": "light"
     },
     "output_type": "display_data"
    },
    {
     "name": "stdout",
     "output_type": "stream",
     "text": [
      "Both Density tree and Decision tree perform rather well, since the diagonal elements of both matrices are in general larger than off diagonal elements. However, it is clear thar decision tree performs much better than density tree, since density tree fails to correctly classify some digits with much more frequency, as  as evinced by some off diagonal elements. Density tree does not classify 8 and 2 digits with as much accuracy as the others. In contrast, Decision tree predicts all  classes with greater accuracy\n"
     ]
    }
   ],
   "source": [
    "# train trees, plot training error confusion matrices, and comment on your results\n",
    "prediction = np.zeros(len(target))\n",
    "posterior = np.zeros(len(target))\n",
    "for l in labels:\n",
    "    Density = DensityTree()\n",
    "    data_l = data[target == l]\n",
    "    prior_l = len(data_l)/len(data)\n",
    "    Density.train(data_l,prior_l)\n",
    "    for i in range(data.shape[0]):\n",
    "        x = data[i,:]\n",
    "        p = Density.predict(x)\n",
    "        if p>posterior[i]:\n",
    "            posterior[i] = p\n",
    "            prediction[i] = l\n",
    "    \n",
    "Decision = DecisionTree()\n",
    "Decision.train(data, target, n_min=20)\n",
    "prediction_decision = np.zeros(len(target))\n",
    "for i in range(len(target)):\n",
    "    x = data[i,:]\n",
    "    posterior_d = Decision.predict(x)\n",
    "    prediction_decision[i] = np.argmax(posterior_d)\n",
    "\n",
    "conf_matrix_dec = np.zeros((len(labels),len(labels)))\n",
    "conf_matrix_dense = np.zeros((len(labels),len(labels)))\n",
    "\n",
    "for i in range(10):\n",
    "    cond = target == i\n",
    "    conf_matrix_dense[:,i] = np.sum(1*(prediction[cond] == labels[:,np.newaxis]), axis = 1)\n",
    "    conf_matrix_dec[:,i] = np.sum(1*(prediction_decision[cond] == labels[:,np.newaxis]), axis = 1)\n",
    "    \n",
    "plt.figure()\n",
    "print('Density Confusion Matrix')\n",
    "plt.imshow(conf_matrix_dense)\n",
    "plt.show()\n",
    "\n",
    "print('Decision Confusion Matrix')\n",
    "plt.figure()\n",
    "display(plt.imshow(conf_matrix_dec))\n",
    "plt.show()\n",
    "\n",
    "print('Both Density tree and Decision tree perform rather well, since the diagonal elements of both matrices are in general larger than off diagonal elements.\\\n",
    " However, it is clear thar decision tree performs much better than density tree, since density tree fails to correctly classify some digits with much more frequency, as \\\n",
    " as evinced by some off diagonal elements. Density tree does not classify 8 and 2 digits with as much accuracy as the others. In contrast, Decision tree predicts all \\\n",
    " classes with greater accuracy')\n"
   ]
  },
  {
   "cell_type": "markdown",
   "metadata": {},
   "source": [
    "# Density and Decision Forest"
   ]
  },
  {
   "cell_type": "code",
   "execution_count": 12,
   "metadata": {},
   "outputs": [],
   "source": [
    "class DensityForest():\n",
    "    def __init__(self, n_trees):\n",
    "        # create ensemble\n",
    "        self.trees = [DensityTree() for i in range(n_trees)]\n",
    "    \n",
    "    def train(self, data, prior, n_min=20):\n",
    "        for tree in self.trees:\n",
    "            # train each tree, using a bootstrap sample of the data\n",
    "            bootstrap_indices = np.random.choice(data.shape[0], data.shape[0])\n",
    "            bootstrap_data = data[bootstrap_indices,:]\n",
    "            tree.train(bootstrap_data, prior,n_min)\n",
    "            \n",
    "    def predict(self, x):\n",
    "        #compute average predicted density over all trees\n",
    "        p = 0\n",
    "        for tree in self.trees:\n",
    "            p = p + tree.predict(x)\n",
    "        return p / len(self.trees)"
   ]
  },
  {
   "cell_type": "code",
   "execution_count": 13,
   "metadata": {},
   "outputs": [],
   "source": [
    "class DecisionForest():\n",
    "    def __init__(self, n_trees):\n",
    "        # create ensemble\n",
    "        self.trees = [DecisionTree() for i in range(n_trees)]\n",
    "    \n",
    "    def train(self, data, labels, n_min=0):\n",
    "        for tree in self.trees:\n",
    "            # train each tree, using a bootstrap sample of the data\n",
    "            bootstrap_indices = np.random.choice(len(labels), len(labels))\n",
    "            bootstrap_data = data[bootstrap_indices,:]\n",
    "            bootstrap_labels = target[bootstrap_indices]\n",
    "            tree.train(bootstrap_data,bootstrap_labels)\n",
    "\n",
    "    def predict(self, x):\n",
    "        n_t = len(self.trees)\n",
    "        predictions = np.zeros(10)\n",
    "        for tree in self.trees:\n",
    "            p = tree.predict(x)\n",
    "            predictions += p/n_t\n",
    "        return predictions"
   ]
  },
  {
   "cell_type": "markdown",
   "metadata": {},
   "source": [
    "# Evaluation of Density and Decision Forest"
   ]
  },
  {
   "cell_type": "code",
   "execution_count": 14,
   "metadata": {},
   "outputs": [
    {
     "name": "stdout",
     "output_type": "stream",
     "text": [
      "Decision Forest Confusion Matrix\n"
     ]
    },
    {
     "data": {
      "image/png": "[encoded data removed]",
      "text/plain": [
       "<Figure size 432x288 with 1 Axes>"
      ]
     },
     "metadata": {
      "needs_background": "light"
     },
     "output_type": "display_data"
    },
    {
     "name": "stdout",
     "output_type": "stream",
     "text": [
      "Density Forest Confusion Matrix\n"
     ]
    },
    {
     "data": {
      "image/png": "[encoded data removed]",
      "text/plain": [
       "<Figure size 432x288 with 1 Axes>"
      ]
     },
     "metadata": {
      "needs_background": "light"
     },
     "output_type": "display_data"
    },
    {
     "name": "stdout",
     "output_type": "stream",
     "text": [
      "The averaging process from the forest greatly improves the accuracy of the classifiers. Decision Forest has an almost perfect classification,even better than the already outstanding single Decision Tree. Additionally, Density forest has a much less rate of failure than a single density tree. \n"
     ]
    }
   ],
   "source": [
    "# train forests (with 20 trees per forest), plot training error confusion matrices, and comment on your results\n",
    "n_trees = 20\n",
    "DecF = DecisionForest(n_trees)\n",
    "DecF.train(data, target)\n",
    "prediction_decision = np.zeros(len(target))\n",
    "prediction_density = np.zeros(len(target))\n",
    "posterior_density = np.zeros(len(target))\n",
    "for i in range(data.shape[0]):\n",
    "    x = data[i,:]\n",
    "    prediction_decision[i] = np.argmax(DecF.predict(x))\n",
    "\n",
    "for l in range(10):\n",
    "    DensityF = DensityForest(n_trees)\n",
    "    data_l = data[target == l] \n",
    "    prior = len(data_l)/len(target)\n",
    "    DensityF.train(data_l,prior)\n",
    "    for i in range(data.shape[0]):\n",
    "        x = data[i,:]\n",
    "        posterior = DensityF.predict(x)\n",
    "        if posterior > posterior_density[i]:\n",
    "            posterior_density[i] = posterior\n",
    "            prediction_density[i] = l\n",
    "\n",
    "\n",
    "conf_matrix_dec = np.zeros((len(labels),len(labels)))\n",
    "conf_matrix_dense = np.zeros((len(labels),len(labels)))\n",
    "for i in range(10):\n",
    "    cond = target == i\n",
    "    conf_matrix_dec[:,i] = np.sum(1*(prediction_decision[cond] == labels[:,np.newaxis]), axis = 1)\n",
    "    conf_matrix_dense[:,i] = np.sum(1*(prediction_density[cond] == labels[:,np.newaxis]), axis = 1)\n",
    "\n",
    "plt.figure()\n",
    "print('Decision Forest Confusion Matrix')\n",
    "plt.imshow(conf_matrix_dec)\n",
    "plt.show()\n",
    "\n",
    "plt.figure()\n",
    "print('Density Forest Confusion Matrix')\n",
    "plt.imshow(conf_matrix_dense)\n",
    "plt.show()\n",
    "\n",
    "print('The averaging process from the forest greatly improves the accuracy of the classifiers. Decision Forest has an almost perfect classification,\\\n",
    "even better than the already outstanding single Decision Tree. Additionally, Density forest has a much less rate of failure than a single density tree. ')\n",
    "# your code here"
   ]
  },
  {
   "cell_type": "code",
   "execution_count": null,
   "metadata": {},
   "outputs": [],
   "source": []
  }
 ],
 "metadata": {
  "kernelspec": {
   "display_name": "Python 3",
   "language": "python",
   "name": "python3"
  },
  "language_info": {
   "codemirror_mode": {
    "name": "ipython",
    "version": 3
   },
   "file_extension": ".py",
   "mimetype": "text/x-python",
   "name": "python",
   "nbconvert_exporter": "python",
   "pygments_lexer": "ipython3",
   "version": "3.8.6"
  }
 },
 "nbformat": 4,
 "nbformat_minor": 4
}
